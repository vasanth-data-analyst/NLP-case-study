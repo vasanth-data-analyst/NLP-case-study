{
 "cells": [
  {
   "cell_type": "markdown",
   "metadata": {},
   "source": [
    "## Case Study - Sentiment Analysis\n",
    "\n",
    "In this case study, you will be shown how to perform Sentiment Analysis on Twitter data using NLP techniques from Python."
   ]
  },
  {
   "cell_type": "markdown",
   "metadata": {},
   "source": [
    "##### Scenario:\n",
    "\n",
    "The demonetization of Indian currency was a step taken by Government of India on November 8 leaving the entire country into shock. Some of currency notes were banned and entire country became emotional and few have taken to twitter to express their feelings.\n",
    "\n",
    "##### Challenge:\n",
    "\n",
    "It's important to understand the implications of the steps taken by Government and take actions based on the citizen's response. You, as a Data Scientist, have to analyse these tweets to understand the overall reaction of citizens.\n",
    "\n",
    "##### Dataset:\n",
    "\n",
    "Data of tweets on #demonetization has been extracted from Twitter and is available in the file \"demonetization_tweets_data.csv\". This dataset contains 7470 rows and 12 columns. The description of the columns is as given below:\n",
    "\n",
    "- <b>text</b>: Text of tweet\n",
    "- <b>favorited</b>: Boolean; indicates whether the tweet has been liked by authenticating user\n",
    "- <b>favoriteCount</b>: Number of times this tweet has been liked\n",
    "- <b>replyToSN</b>: Screen Name of original tweet's author if this tweet is a reply\n",
    "- <b>created</b>: Timestamp of creation of tweet\n",
    "- <b>truncated</b>: Boolean; indicates whether the tweet has been truncated due to length limits\n",
    "- <b>replyToSID</b>: ID of the original tweet if this tweet is a reply\n",
    "- <b>statusSource</b>: Source used to post the tweet\n",
    "- <b>screenName</b>: Screen Name of the author of the tweet\n",
    "- <b>retweetCount</b>: Number of times this tweet has been retweeted\n",
    "- <b>isRetweet</b>: Boolean; indicates whether this tweet is a retweet or not\n",
    "- <b>retweeted</b>: Boolean; indicates whether this tweet has been retweeted by authenticating user\n"
   ]
  },
  {
   "cell_type": "markdown",
   "metadata": {},
   "source": [
    "- ### Load the required libraries"
   ]
  },
  {
   "cell_type": "code",
   "execution_count": 3,
   "metadata": {},
   "outputs": [],
   "source": [
    "# Load the required libraries from Python\n",
    "# Make sure all the libraries have been download else download using nltk.download command\n",
    "import pandas as pd\n",
    "import numpy as np\n",
    "import matplotlib.pyplot as plt\n",
    "%matplotlib inline\n",
    "import re\n",
    "import nltk "
   ]
  },
  {
   "cell_type": "markdown",
   "metadata": {},
   "source": [
    "- ### Load and analyse the data \n",
    "\n",
    "\n",
    "    - Load the data from the required location into a DataFrame\n",
    "    - Analyse the shape of the data by printing its total number of rows & columns\n",
    "    - Also print 5 rows of the DataFrame\n",
    "    - Print the 'text' of the tweet with highest number of retweets"
   ]
  },
  {
   "cell_type": "code",
   "execution_count": 6,
   "metadata": {},
   "outputs": [
    {
     "data": {
      "text/html": [
       "<div>\n",
       "<style scoped>\n",
       "    .dataframe tbody tr th:only-of-type {\n",
       "        vertical-align: middle;\n",
       "    }\n",
       "\n",
       "    .dataframe tbody tr th {\n",
       "        vertical-align: top;\n",
       "    }\n",
       "\n",
       "    .dataframe thead th {\n",
       "        text-align: right;\n",
       "    }\n",
       "</style>\n",
       "<table border=\"1\" class=\"dataframe\">\n",
       "  <thead>\n",
       "    <tr style=\"text-align: right;\">\n",
       "      <th></th>\n",
       "      <th>text</th>\n",
       "      <th>favorited</th>\n",
       "      <th>favoriteCount</th>\n",
       "      <th>replyToSN</th>\n",
       "      <th>created</th>\n",
       "      <th>truncated</th>\n",
       "      <th>replyToSID</th>\n",
       "      <th>statusSource</th>\n",
       "      <th>screenName</th>\n",
       "      <th>retweetCount</th>\n",
       "      <th>isRetweet</th>\n",
       "      <th>retweeted</th>\n",
       "    </tr>\n",
       "  </thead>\n",
       "  <tbody>\n",
       "    <tr>\n",
       "      <th>0</th>\n",
       "      <td>RT @rssurjewala: Critical question: Was PayTM ...</td>\n",
       "      <td>False</td>\n",
       "      <td>0</td>\n",
       "      <td>NaN</td>\n",
       "      <td>11/23/2016 18:40</td>\n",
       "      <td>False</td>\n",
       "      <td>NaN</td>\n",
       "      <td>&lt;a href=\"http://twitter.com/download/android\" ...</td>\n",
       "      <td>HASHTAGFARZIWAL</td>\n",
       "      <td>331</td>\n",
       "      <td>True</td>\n",
       "      <td>False</td>\n",
       "    </tr>\n",
       "    <tr>\n",
       "      <th>1</th>\n",
       "      <td>RT @roshankar: Former FinSec, RBI Dy Governor,...</td>\n",
       "      <td>False</td>\n",
       "      <td>0</td>\n",
       "      <td>NaN</td>\n",
       "      <td>11/23/2016 18:40</td>\n",
       "      <td>False</td>\n",
       "      <td>NaN</td>\n",
       "      <td>&lt;a href=\"http://twitter.com/download/android\" ...</td>\n",
       "      <td>rahulja13034944</td>\n",
       "      <td>12</td>\n",
       "      <td>True</td>\n",
       "      <td>False</td>\n",
       "    </tr>\n",
       "    <tr>\n",
       "      <th>2</th>\n",
       "      <td>RT @satishacharya: Reddy Wedding! @mail_today ...</td>\n",
       "      <td>False</td>\n",
       "      <td>0</td>\n",
       "      <td>NaN</td>\n",
       "      <td>11/23/2016 18:39</td>\n",
       "      <td>False</td>\n",
       "      <td>NaN</td>\n",
       "      <td>&lt;a href=\"http://cpimharyana.com\" rel=\"nofollow...</td>\n",
       "      <td>CPIMBadli</td>\n",
       "      <td>120</td>\n",
       "      <td>True</td>\n",
       "      <td>False</td>\n",
       "    </tr>\n",
       "    <tr>\n",
       "      <th>3</th>\n",
       "      <td>RT @gauravcsawant: Rs 40 lakh looted from a ba...</td>\n",
       "      <td>False</td>\n",
       "      <td>0</td>\n",
       "      <td>NaN</td>\n",
       "      <td>11/23/2016 18:38</td>\n",
       "      <td>False</td>\n",
       "      <td>NaN</td>\n",
       "      <td>&lt;a href=\"http://twitter.com/download/android\" ...</td>\n",
       "      <td>bhodia1</td>\n",
       "      <td>637</td>\n",
       "      <td>True</td>\n",
       "      <td>False</td>\n",
       "    </tr>\n",
       "    <tr>\n",
       "      <th>4</th>\n",
       "      <td>RT @sumitbhati2002: Many opposition leaders ar...</td>\n",
       "      <td>False</td>\n",
       "      <td>0</td>\n",
       "      <td>NaN</td>\n",
       "      <td>11/23/2016 18:38</td>\n",
       "      <td>False</td>\n",
       "      <td>NaN</td>\n",
       "      <td>&lt;a href=\"http://twitter.com/download/android\" ...</td>\n",
       "      <td>sumitbhati2002</td>\n",
       "      <td>1</td>\n",
       "      <td>True</td>\n",
       "      <td>False</td>\n",
       "    </tr>\n",
       "  </tbody>\n",
       "</table>\n",
       "</div>"
      ],
      "text/plain": [
       "                                                text  favorited  \\\n",
       "0  RT @rssurjewala: Critical question: Was PayTM ...      False   \n",
       "1  RT @roshankar: Former FinSec, RBI Dy Governor,...      False   \n",
       "2  RT @satishacharya: Reddy Wedding! @mail_today ...      False   \n",
       "3  RT @gauravcsawant: Rs 40 lakh looted from a ba...      False   \n",
       "4  RT @sumitbhati2002: Many opposition leaders ar...      False   \n",
       "\n",
       "   favoriteCount replyToSN           created  truncated  replyToSID  \\\n",
       "0              0       NaN  11/23/2016 18:40      False         NaN   \n",
       "1              0       NaN  11/23/2016 18:40      False         NaN   \n",
       "2              0       NaN  11/23/2016 18:39      False         NaN   \n",
       "3              0       NaN  11/23/2016 18:38      False         NaN   \n",
       "4              0       NaN  11/23/2016 18:38      False         NaN   \n",
       "\n",
       "                                        statusSource       screenName  \\\n",
       "0  <a href=\"http://twitter.com/download/android\" ...  HASHTAGFARZIWAL   \n",
       "1  <a href=\"http://twitter.com/download/android\" ...  rahulja13034944   \n",
       "2  <a href=\"http://cpimharyana.com\" rel=\"nofollow...        CPIMBadli   \n",
       "3  <a href=\"http://twitter.com/download/android\" ...          bhodia1   \n",
       "4  <a href=\"http://twitter.com/download/android\" ...   sumitbhati2002   \n",
       "\n",
       "   retweetCount  isRetweet  retweeted  \n",
       "0           331       True      False  \n",
       "1            12       True      False  \n",
       "2           120       True      False  \n",
       "3           637       True      False  \n",
       "4             1       True      False  "
      ]
     },
     "execution_count": 6,
     "metadata": {},
     "output_type": "execute_result"
    }
   ],
   "source": [
    "data=pd.read_csv(r\"C:\\Users\\victo\\Downloads\\case_study - sentiment analysis_ydh_bcgrumdg\\Case Study - Sentiment Analysis\\demonetization-tweets_data.csv\",encoding = \"ISO-8859-1\")\n",
    "data.head()"
   ]
  },
  {
   "cell_type": "code",
   "execution_count": 7,
   "metadata": {},
   "outputs": [
    {
     "data": {
      "text/plain": [
       "(7470, 12)"
      ]
     },
     "execution_count": 7,
     "metadata": {},
     "output_type": "execute_result"
    }
   ],
   "source": [
    "data.shape"
   ]
  },
  {
   "cell_type": "code",
   "execution_count": 9,
   "metadata": {},
   "outputs": [
    {
     "data": {
      "text/plain": [
       "'RT @RNTata2000: The government\\x92s bold implementation of the demonetization programme needs the nation\\x92s support. https://t.co/tx1ZILSor8'"
      ]
     },
     "execution_count": 9,
     "metadata": {},
     "output_type": "execute_result"
    }
   ],
   "source": [
    "data.iloc[data['retweetCount'].idxmax()]['text']"
   ]
  },
  {
   "cell_type": "markdown",
   "metadata": {},
   "source": [
    "- ### Clean the data\n",
    "\n",
    "\n",
    "    - Observe that the tweet text contains various elements such as 'Retweet tag RT@', 'punctuation marks' and 'stop words'\n",
    "    - Use functions from Python libraries such as re, string and NLTK to remove these unnecessary elements\n"
   ]
  },
  {
   "cell_type": "code",
   "execution_count": 10,
   "metadata": {},
   "outputs": [],
   "source": [
    "# Load the required libraries for cleaning\n",
    "import string,re\n",
    "from nltk.tokenize import word_tokenize\n",
    "from nltk.corpus import stopwords"
   ]
  },
  {
   "cell_type": "code",
   "execution_count": 11,
   "metadata": {},
   "outputs": [],
   "source": [
    "# Create a function to generate cleaned data from raw text\n",
    "def clean_text(data):\n",
    "    data = word_tokenize(data) # Create tokens\n",
    "    data = data[4:] # Remove RT@\n",
    "    data= \" \".join(data) # Join tokens\n",
    "    \n",
    "    data= re.sub('https','',data) # Remove 'https' text with blank\n",
    "    \n",
    "    data = [char for char in data if char not in string.punctuation] # Remove punctuations\n",
    "    data = ''.join(data) # Join the leters\n",
    "    \n",
    "    data = [word for word in data.split() if word.lower() not in stopwords.words('english')] # Remove common english words (I, you, we,...)\n",
    "    return \" \".join(data)"
   ]
  },
  {
   "cell_type": "code",
   "execution_count": 12,
   "metadata": {},
   "outputs": [],
   "source": [
    "# Apply the function to 'text' to clean it\n",
    "# Add cleaned data as a separate column to the DataFrame\n",
    "\n",
    "data['cleaned_text']=data['text'].apply(clean_text)"
   ]
  },
  {
   "cell_type": "code",
   "execution_count": 13,
   "metadata": {},
   "outputs": [
    {
     "data": {
      "text/plain": [
       "0    Critical question PayTM informed Demonetizatio...\n",
       "1    Former FinSec RBI Dy Governor CBDT Chair Harva...\n",
       "2    Reddy Wedding mailtoday cartoon demonetization...\n",
       "3    Rs 40 lakh looted bank Kishtwar J amp K Third ...\n",
       "4    Many opposition leaders narendramodi Demonetiz...\n",
       "Name: cleaned_text, dtype: object"
      ]
     },
     "execution_count": 13,
     "metadata": {},
     "output_type": "execute_result"
    }
   ],
   "source": [
    "# Print the first 5 values of cleaned tweet data\n",
    "\n",
    "data['cleaned_text'].head()"
   ]
  },
  {
   "cell_type": "markdown",
   "metadata": {},
   "source": [
    "- ### Process the data\n",
    "\n",
    "\n",
    "    - Apart from cleaning, data also needs to be processed to remove elements which may cause issues in analysis\n",
    "    - Examples of such elements are 'single characters', 'multiple spaces', 'Upper-cased'\n",
    "    - Apply various text pre-processing techniques one-by-one to the cleaned data\n",
    "    \n",
    "        - Remove all the special characters\n",
    "        - Remove single characters appearing in the text except the start\n",
    "        - Remove single characters appearing at the start\n",
    "        - Substitute multiple spaces with a single space\n",
    "        - Remove prefix 'b'\n",
    "        - Convert to lowercase\n",
    "        - Print first five values of processed data\n",
    "        - Add the processed data as a separate column to the DataFrame\n"
   ]
  },
  {
   "cell_type": "code",
   "execution_count": 15,
   "metadata": {},
   "outputs": [],
   "source": [
    "features = data['cleaned_text']\n",
    "processed_features = []\n",
    "\n",
    "for sentence in range(0, len(features)):\n",
    "    # Remove all the special characters\n",
    "    processed_feature = re.sub(r'\\W', ' ', str(features[sentence]))\n",
    "    \n",
    "    # Remove single characters appearing in the text except the start\n",
    "    processed_feature= re.sub(r'\\s+[a-zA-Z]\\s+', ' ', processed_feature)\n",
    "    \n",
    "    # Remove single characters appearing at the start\n",
    "    processed_feature = re.sub(r'\\^[a-zA-Z]\\s+', ' ', processed_feature) \n",
    "    \n",
    "    # Substitute multiple spaces with a single space\n",
    "    processed_feature = re.sub(r'\\s+', ' ', processed_feature, flags=re.I)\n",
    "    \n",
    "    # Remove prefix 'b'\n",
    "    processed_feature = re.sub(r'^b\\s+', '', processed_feature)\n",
    "    \n",
    "    # Convert to lowercase\n",
    "    processed_feature = processed_feature.lower()\n",
    "\n",
    "    processed_features.append(processed_feature)"
   ]
  },
  {
   "cell_type": "code",
   "execution_count": 16,
   "metadata": {},
   "outputs": [
    {
     "data": {
      "text/plain": [
       "['critical question paytm informed demonetization edict pm clearly fishy requires full disclosure amp',\n",
       " 'former finsec rbi dy governor cbdt chair harvard professor lambaste demonetization aam aadmi listen th',\n",
       " 'reddy wedding mailtoday cartoon demonetization reddywedding tcou7glnrq31f',\n",
       " 'rs 40 lakh looted bank kishtwar amp third incident since demonetization terrorists',\n",
       " 'many opposition leaders narendramodi demonetization respect decision support oppositio',\n",
       " 'narendramodi demonetization respect decision support opposition bcoz party',\n",
       " '28 ed u00a0 u00bd ed u00b8 u0082 protesting demonetization different party leaders',\n",
       " 'explained demonetization tried put words laced heavy technical',\n",
       " 'former finsec rbi dy governor cbdt chair harvard professor lambaste demonetization aam aadmi listen th',\n",
       " 'demonetization cooperative banking sector kerala good tax kerala black money hq tco']"
      ]
     },
     "execution_count": 16,
     "metadata": {},
     "output_type": "execute_result"
    }
   ],
   "source": [
    "# Print first five values of processed data\n",
    "processed_features[:10]"
   ]
  },
  {
   "cell_type": "code",
   "execution_count": 17,
   "metadata": {},
   "outputs": [],
   "source": [
    "# Add the processed data as a separate column to the DataFrame\n",
    "\n",
    "data['processed_text'] = processed_features"
   ]
  },
  {
   "cell_type": "code",
   "execution_count": 18,
   "metadata": {},
   "outputs": [
    {
     "data": {
      "text/html": [
       "<div>\n",
       "<style scoped>\n",
       "    .dataframe tbody tr th:only-of-type {\n",
       "        vertical-align: middle;\n",
       "    }\n",
       "\n",
       "    .dataframe tbody tr th {\n",
       "        vertical-align: top;\n",
       "    }\n",
       "\n",
       "    .dataframe thead th {\n",
       "        text-align: right;\n",
       "    }\n",
       "</style>\n",
       "<table border=\"1\" class=\"dataframe\">\n",
       "  <thead>\n",
       "    <tr style=\"text-align: right;\">\n",
       "      <th></th>\n",
       "      <th>text</th>\n",
       "      <th>favorited</th>\n",
       "      <th>favoriteCount</th>\n",
       "      <th>replyToSN</th>\n",
       "      <th>created</th>\n",
       "      <th>truncated</th>\n",
       "      <th>replyToSID</th>\n",
       "      <th>statusSource</th>\n",
       "      <th>screenName</th>\n",
       "      <th>retweetCount</th>\n",
       "      <th>isRetweet</th>\n",
       "      <th>retweeted</th>\n",
       "      <th>cleaned_text</th>\n",
       "      <th>processed_text</th>\n",
       "    </tr>\n",
       "  </thead>\n",
       "  <tbody>\n",
       "    <tr>\n",
       "      <th>0</th>\n",
       "      <td>RT @rssurjewala: Critical question: Was PayTM ...</td>\n",
       "      <td>False</td>\n",
       "      <td>0</td>\n",
       "      <td>NaN</td>\n",
       "      <td>11/23/2016 18:40</td>\n",
       "      <td>False</td>\n",
       "      <td>NaN</td>\n",
       "      <td>&lt;a href=\"http://twitter.com/download/android\" ...</td>\n",
       "      <td>HASHTAGFARZIWAL</td>\n",
       "      <td>331</td>\n",
       "      <td>True</td>\n",
       "      <td>False</td>\n",
       "      <td>Critical question PayTM informed Demonetizatio...</td>\n",
       "      <td>critical question paytm informed demonetizatio...</td>\n",
       "    </tr>\n",
       "    <tr>\n",
       "      <th>1</th>\n",
       "      <td>RT @roshankar: Former FinSec, RBI Dy Governor,...</td>\n",
       "      <td>False</td>\n",
       "      <td>0</td>\n",
       "      <td>NaN</td>\n",
       "      <td>11/23/2016 18:40</td>\n",
       "      <td>False</td>\n",
       "      <td>NaN</td>\n",
       "      <td>&lt;a href=\"http://twitter.com/download/android\" ...</td>\n",
       "      <td>rahulja13034944</td>\n",
       "      <td>12</td>\n",
       "      <td>True</td>\n",
       "      <td>False</td>\n",
       "      <td>Former FinSec RBI Dy Governor CBDT Chair Harva...</td>\n",
       "      <td>former finsec rbi dy governor cbdt chair harva...</td>\n",
       "    </tr>\n",
       "    <tr>\n",
       "      <th>2</th>\n",
       "      <td>RT @satishacharya: Reddy Wedding! @mail_today ...</td>\n",
       "      <td>False</td>\n",
       "      <td>0</td>\n",
       "      <td>NaN</td>\n",
       "      <td>11/23/2016 18:39</td>\n",
       "      <td>False</td>\n",
       "      <td>NaN</td>\n",
       "      <td>&lt;a href=\"http://cpimharyana.com\" rel=\"nofollow...</td>\n",
       "      <td>CPIMBadli</td>\n",
       "      <td>120</td>\n",
       "      <td>True</td>\n",
       "      <td>False</td>\n",
       "      <td>Reddy Wedding mailtoday cartoon demonetization...</td>\n",
       "      <td>reddy wedding mailtoday cartoon demonetization...</td>\n",
       "    </tr>\n",
       "    <tr>\n",
       "      <th>3</th>\n",
       "      <td>RT @gauravcsawant: Rs 40 lakh looted from a ba...</td>\n",
       "      <td>False</td>\n",
       "      <td>0</td>\n",
       "      <td>NaN</td>\n",
       "      <td>11/23/2016 18:38</td>\n",
       "      <td>False</td>\n",
       "      <td>NaN</td>\n",
       "      <td>&lt;a href=\"http://twitter.com/download/android\" ...</td>\n",
       "      <td>bhodia1</td>\n",
       "      <td>637</td>\n",
       "      <td>True</td>\n",
       "      <td>False</td>\n",
       "      <td>Rs 40 lakh looted bank Kishtwar J amp K Third ...</td>\n",
       "      <td>rs 40 lakh looted bank kishtwar amp third inci...</td>\n",
       "    </tr>\n",
       "    <tr>\n",
       "      <th>4</th>\n",
       "      <td>RT @sumitbhati2002: Many opposition leaders ar...</td>\n",
       "      <td>False</td>\n",
       "      <td>0</td>\n",
       "      <td>NaN</td>\n",
       "      <td>11/23/2016 18:38</td>\n",
       "      <td>False</td>\n",
       "      <td>NaN</td>\n",
       "      <td>&lt;a href=\"http://twitter.com/download/android\" ...</td>\n",
       "      <td>sumitbhati2002</td>\n",
       "      <td>1</td>\n",
       "      <td>True</td>\n",
       "      <td>False</td>\n",
       "      <td>Many opposition leaders narendramodi Demonetiz...</td>\n",
       "      <td>many opposition leaders narendramodi demonetiz...</td>\n",
       "    </tr>\n",
       "  </tbody>\n",
       "</table>\n",
       "</div>"
      ],
      "text/plain": [
       "                                                text  favorited  \\\n",
       "0  RT @rssurjewala: Critical question: Was PayTM ...      False   \n",
       "1  RT @roshankar: Former FinSec, RBI Dy Governor,...      False   \n",
       "2  RT @satishacharya: Reddy Wedding! @mail_today ...      False   \n",
       "3  RT @gauravcsawant: Rs 40 lakh looted from a ba...      False   \n",
       "4  RT @sumitbhati2002: Many opposition leaders ar...      False   \n",
       "\n",
       "   favoriteCount replyToSN           created  truncated  replyToSID  \\\n",
       "0              0       NaN  11/23/2016 18:40      False         NaN   \n",
       "1              0       NaN  11/23/2016 18:40      False         NaN   \n",
       "2              0       NaN  11/23/2016 18:39      False         NaN   \n",
       "3              0       NaN  11/23/2016 18:38      False         NaN   \n",
       "4              0       NaN  11/23/2016 18:38      False         NaN   \n",
       "\n",
       "                                        statusSource       screenName  \\\n",
       "0  <a href=\"http://twitter.com/download/android\" ...  HASHTAGFARZIWAL   \n",
       "1  <a href=\"http://twitter.com/download/android\" ...  rahulja13034944   \n",
       "2  <a href=\"http://cpimharyana.com\" rel=\"nofollow...        CPIMBadli   \n",
       "3  <a href=\"http://twitter.com/download/android\" ...          bhodia1   \n",
       "4  <a href=\"http://twitter.com/download/android\" ...   sumitbhati2002   \n",
       "\n",
       "   retweetCount  isRetweet  retweeted  \\\n",
       "0           331       True      False   \n",
       "1            12       True      False   \n",
       "2           120       True      False   \n",
       "3           637       True      False   \n",
       "4             1       True      False   \n",
       "\n",
       "                                        cleaned_text  \\\n",
       "0  Critical question PayTM informed Demonetizatio...   \n",
       "1  Former FinSec RBI Dy Governor CBDT Chair Harva...   \n",
       "2  Reddy Wedding mailtoday cartoon demonetization...   \n",
       "3  Rs 40 lakh looted bank Kishtwar J amp K Third ...   \n",
       "4  Many opposition leaders narendramodi Demonetiz...   \n",
       "\n",
       "                                      processed_text  \n",
       "0  critical question paytm informed demonetizatio...  \n",
       "1  former finsec rbi dy governor cbdt chair harva...  \n",
       "2  reddy wedding mailtoday cartoon demonetization...  \n",
       "3  rs 40 lakh looted bank kishtwar amp third inci...  \n",
       "4  many opposition leaders narendramodi demonetiz...  "
      ]
     },
     "execution_count": 18,
     "metadata": {},
     "output_type": "execute_result"
    }
   ],
   "source": [
    "# Observe the entire data\n",
    "\n",
    "data.head()"
   ]
  },
  {
   "cell_type": "markdown",
   "metadata": {},
   "source": [
    "- ### Run Sentiment analysis\n",
    "\n",
    "    1. Import TextBlob from Python to calculate various Sentiment scores as described below:\n",
    "        - <b>Polarity</b> is a float value within the range [-1.0 to 1.0] where 0 indicates neutral, +1 indicates a very positive sentiment and -1 represents a very negative sentiment.\n",
    "        - <b>Subjectivity</b> is a float value within the range [0.0 to 1.0] where 0.0 is very objective and 1.0 is very subjective. Subjective sentence expresses some personal feelings, views, beliefs, opinions, allegations, desires, beliefs, suspicions, and speculations where as Objective sentences are factual.\n",
    "\n",
    "    2. After calculating the above scores, encode the polarity scores into three categories- 'positive', 'negative' and 'neutral'\n",
    "    \n",
    "    3. Print the most positive and most negative tweet using Polarity score\n",
    "    \n",
    "    4. Print the most subjective and most objective tweet using Subjectivity score"
   ]
  },
  {
   "cell_type": "code",
   "execution_count": 19,
   "metadata": {},
   "outputs": [],
   "source": [
    "from textblob import TextBlob  ### Python library to create sentiment analysis"
   ]
  },
  {
   "cell_type": "code",
   "execution_count": 20,
   "metadata": {},
   "outputs": [],
   "source": [
    "# Create a function to calculate Sentiment scores for each text\n",
    "def generate_polarity(text):\n",
    "    sentiment = TextBlob(text).sentiment\n",
    "    return sentiment"
   ]
  },
  {
   "cell_type": "code",
   "execution_count": 72,
   "metadata": {},
   "outputs": [
    {
     "data": {
      "text/html": [
       "<div>\n",
       "<style scoped>\n",
       "    .dataframe tbody tr th:only-of-type {\n",
       "        vertical-align: middle;\n",
       "    }\n",
       "\n",
       "    .dataframe tbody tr th {\n",
       "        vertical-align: top;\n",
       "    }\n",
       "\n",
       "    .dataframe thead th {\n",
       "        text-align: right;\n",
       "    }\n",
       "</style>\n",
       "<table border=\"1\" class=\"dataframe\">\n",
       "  <thead>\n",
       "    <tr style=\"text-align: right;\">\n",
       "      <th></th>\n",
       "      <th>processed_text</th>\n",
       "    </tr>\n",
       "  </thead>\n",
       "  <tbody>\n",
       "    <tr>\n",
       "      <th>0</th>\n",
       "      <td>(0.15, 0.5777777777777778)</td>\n",
       "    </tr>\n",
       "    <tr>\n",
       "      <th>1</th>\n",
       "      <td>(0.0, 0.0)</td>\n",
       "    </tr>\n",
       "    <tr>\n",
       "      <th>2</th>\n",
       "      <td>(0.0, 0.0)</td>\n",
       "    </tr>\n",
       "    <tr>\n",
       "      <th>3</th>\n",
       "      <td>(0.0, 0.0)</td>\n",
       "    </tr>\n",
       "    <tr>\n",
       "      <th>4</th>\n",
       "      <td>(0.5, 0.5)</td>\n",
       "    </tr>\n",
       "  </tbody>\n",
       "</table>\n",
       "</div>"
      ],
      "text/plain": [
       "               processed_text\n",
       "0  (0.15, 0.5777777777777778)\n",
       "1                  (0.0, 0.0)\n",
       "2                  (0.0, 0.0)\n",
       "3                  (0.0, 0.0)\n",
       "4                  (0.5, 0.5)"
      ]
     },
     "execution_count": 72,
     "metadata": {},
     "output_type": "execute_result"
    }
   ],
   "source": [
    "# Apply the function to processed data\n",
    "sentiment = data['processed_text'].apply(generate_polarity)\n",
    "sentiment = sentiment.to_frame()\n",
    "sentiment.head()\n"
   ]
  },
  {
   "cell_type": "code",
   "execution_count": 27,
   "metadata": {},
   "outputs": [],
   "source": [
    "# Use the first element as Polarity\n",
    "sentiment['polarity'] = sentiment['processed_text'].apply(lambda x:x[0])\n",
    "\n",
    "# Use the second element as Subjectivity\n",
    "sentiment ['subjectivity'] = sentiment['processed_text'].apply(lambda x:x[1])\n"
   ]
  },
  {
   "cell_type": "code",
   "execution_count": 28,
   "metadata": {},
   "outputs": [],
   "source": [
    "# Add two columns to DataFrame for Polarity and Subjectivity score respectively\n",
    "\n",
    "data['polarity'] = sentiment['polarity']\n",
    "data['subjectivity'] = sentiment['subjectivity']"
   ]
  },
  {
   "cell_type": "code",
   "execution_count": 29,
   "metadata": {},
   "outputs": [],
   "source": [
    "# Encode polarity into 'positive', 'negative' and 'neutral' based on the score\n",
    "\n",
    "data['polarity_encoded'] = ['positive' if x > 0 else 'negative' if x < 0 else 'neutral' for x in data['polarity']]"
   ]
  },
  {
   "cell_type": "code",
   "execution_count": 30,
   "metadata": {},
   "outputs": [
    {
     "data": {
      "text/plain": [
       "polarity_encoded\n",
       "neutral     3720\n",
       "positive    2648\n",
       "negative    1102\n",
       "Name: count, dtype: int64"
      ]
     },
     "execution_count": 30,
     "metadata": {},
     "output_type": "execute_result"
    }
   ],
   "source": [
    "# Print the number of tweets of each category of polarity\n",
    "data['polarity_encoded'].value_counts()"
   ]
  },
  {
   "cell_type": "code",
   "execution_count": 31,
   "metadata": {},
   "outputs": [
    {
     "name": "stdout",
     "output_type": "stream",
     "text": [
      "The most positive tweet: one greatest computer scientists dr vijay bhatkar views demonetization decision hon pm narendramodi h\n",
      "The most negative tweet: pathetic journalism media thought get stds atms another attempt malign demonetization tco\n"
     ]
    }
   ],
   "source": [
    "# Print the most positive and most negative tweet\n",
    "\n",
    "print(\"The most positive tweet:\",data.iloc[data['polarity'].idxmax()]['processed_text'])\n",
    "print(\"The most negative tweet:\",data.iloc[data['polarity'].idxmin()]['processed_text']) "
   ]
  },
  {
   "cell_type": "code",
   "execution_count": 32,
   "metadata": {},
   "outputs": [
    {
     "name": "stdout",
     "output_type": "stream",
     "text": [
      "The most subjective tweet: demonetization harbhajansingh gives hilarious shagun suggestion struggling wedding season\n",
      "The most objective tweet: former finsec rbi dy governor cbdt chair harvard professor lambaste demonetization aam aadmi listen th\n"
     ]
    }
   ],
   "source": [
    "# Print the most subjective and most objective tweet\n",
    "\n",
    "print(\"The most subjective tweet:\",data.iloc[data['subjectivity'].idxmax()]['processed_text'])\n",
    "print(\"The most objective tweet:\",data.iloc[data['subjectivity'].idxmin()]['processed_text']) "
   ]
  },
  {
   "cell_type": "markdown",
   "metadata": {},
   "source": [
    "- ### Apply Vectorization\n",
    "\n",
    "    1. Create a DataFrame containing only the columns of interest- Processed text & Polarity Category\n",
    "    2. Tokenize the text using TweetTokenizer from NLTK\n",
    "    3. Calculate the number of unique words (Bag of Words) using Count Vectorizer"
   ]
  },
  {
   "cell_type": "code",
   "execution_count": 33,
   "metadata": {},
   "outputs": [
    {
     "data": {
      "text/plain": [
       "Index(['text', 'favorited', 'favoriteCount', 'replyToSN', 'created',\n",
       "       'truncated', 'replyToSID', 'statusSource', 'screenName', 'retweetCount',\n",
       "       'isRetweet', 'retweeted', 'cleaned_text', 'processed_text', 'polarity',\n",
       "       'subjectivity', 'polarity_encoded'],\n",
       "      dtype='object')"
      ]
     },
     "execution_count": 33,
     "metadata": {},
     "output_type": "execute_result"
    }
   ],
   "source": [
    "# Create a DataFrame containing only the columns of interest- Processed text & Polarity Category\n",
    "data.columns"
   ]
  },
  {
   "cell_type": "code",
   "execution_count": 34,
   "metadata": {},
   "outputs": [],
   "source": [
    "df = data[['processed_text', 'polarity_encoded']]"
   ]
  },
  {
   "cell_type": "code",
   "execution_count": 35,
   "metadata": {},
   "outputs": [
    {
     "data": {
      "text/html": [
       "<div>\n",
       "<style scoped>\n",
       "    .dataframe tbody tr th:only-of-type {\n",
       "        vertical-align: middle;\n",
       "    }\n",
       "\n",
       "    .dataframe tbody tr th {\n",
       "        vertical-align: top;\n",
       "    }\n",
       "\n",
       "    .dataframe thead th {\n",
       "        text-align: right;\n",
       "    }\n",
       "</style>\n",
       "<table border=\"1\" class=\"dataframe\">\n",
       "  <thead>\n",
       "    <tr style=\"text-align: right;\">\n",
       "      <th></th>\n",
       "      <th>processed_text</th>\n",
       "      <th>polarity_encoded</th>\n",
       "    </tr>\n",
       "  </thead>\n",
       "  <tbody>\n",
       "    <tr>\n",
       "      <th>0</th>\n",
       "      <td>critical question paytm informed demonetizatio...</td>\n",
       "      <td>positive</td>\n",
       "    </tr>\n",
       "    <tr>\n",
       "      <th>1</th>\n",
       "      <td>former finsec rbi dy governor cbdt chair harva...</td>\n",
       "      <td>neutral</td>\n",
       "    </tr>\n",
       "    <tr>\n",
       "      <th>2</th>\n",
       "      <td>reddy wedding mailtoday cartoon demonetization...</td>\n",
       "      <td>neutral</td>\n",
       "    </tr>\n",
       "    <tr>\n",
       "      <th>3</th>\n",
       "      <td>rs 40 lakh looted bank kishtwar amp third inci...</td>\n",
       "      <td>neutral</td>\n",
       "    </tr>\n",
       "    <tr>\n",
       "      <th>4</th>\n",
       "      <td>many opposition leaders narendramodi demonetiz...</td>\n",
       "      <td>positive</td>\n",
       "    </tr>\n",
       "  </tbody>\n",
       "</table>\n",
       "</div>"
      ],
      "text/plain": [
       "                                      processed_text polarity_encoded\n",
       "0  critical question paytm informed demonetizatio...         positive\n",
       "1  former finsec rbi dy governor cbdt chair harva...          neutral\n",
       "2  reddy wedding mailtoday cartoon demonetization...          neutral\n",
       "3  rs 40 lakh looted bank kishtwar amp third inci...          neutral\n",
       "4  many opposition leaders narendramodi demonetiz...         positive"
      ]
     },
     "execution_count": 35,
     "metadata": {},
     "output_type": "execute_result"
    }
   ],
   "source": [
    "df.head()"
   ]
  },
  {
   "cell_type": "code",
   "execution_count": 36,
   "metadata": {},
   "outputs": [
    {
     "data": {
      "text/plain": [
       "(7470, 2)"
      ]
     },
     "execution_count": 36,
     "metadata": {},
     "output_type": "execute_result"
    }
   ],
   "source": [
    "df.shape"
   ]
  },
  {
   "cell_type": "code",
   "execution_count": 37,
   "metadata": {},
   "outputs": [],
   "source": [
    "# Tokenize the text using TweetTokenizer from NLTK\n",
    "\n",
    "from nltk.tokenize import TweetTokenizer\n",
    "from sklearn.feature_extraction.text import CountVectorizer, TfidfTransformer\n",
    "from sklearn.feature_extraction.text import TfidfVectorizer\n",
    "from sklearn.model_selection import train_test_split"
   ]
  },
  {
   "cell_type": "code",
   "execution_count": 39,
   "metadata": {},
   "outputs": [],
   "source": [
    "# Function to generate tokens using TweetTokenizer\n",
    "def tokenize(text): \n",
    "    tk = TweetTokenizer()\n",
    "    return tk.tokenize(text)\n",
    "\n",
    "\n",
    "vectorizer = CountVectorizer(analyzer = 'word',tokenizer = tokenize,lowercase = True,ngram_range=(1, 1))"
   ]
  },
  {
   "cell_type": "code",
   "execution_count": 40,
   "metadata": {},
   "outputs": [
    {
     "name": "stderr",
     "output_type": "stream",
     "text": [
      "C:\\Users\\victo\\miniconda3\\Lib\\site-packages\\sklearn\\feature_extraction\\text.py:525: UserWarning: The parameter 'token_pattern' will not be used since 'tokenizer' is not None'\n",
      "  warnings.warn(\n"
     ]
    }
   ],
   "source": [
    "# Generate unique words from the processed data by applying Count Vectorizer along with TweetTokenizer\n",
    "\n",
    "count= vectorizer.fit_transform(df['processed_text'])"
   ]
  },
  {
   "cell_type": "code",
   "execution_count": 41,
   "metadata": {},
   "outputs": [
    {
     "data": {
      "text/plain": [
       "(7470, 8912)"
      ]
     },
     "execution_count": 41,
     "metadata": {},
     "output_type": "execute_result"
    }
   ],
   "source": [
    "# What is the shape of the data- Count vectorizer provides information about unique words present in data\n",
    "count.shape\n",
    "# This returns the shape of the term-document matrix geerated by application of Count Vectorizer\n",
    "# The matrix contains same number of rows as in the input DataFrame and number of columns represent the number of unique ngrams (here unigrams) created by vectorizer"
   ]
  },
  {
   "cell_type": "markdown",
   "metadata": {},
   "source": [
    "- ### Create a classification model on our data\n",
    "\n",
    "    1. Split the data into training and testing data sets\n",
    "        - Use processed data as independent variable and polarity as dependent variable\n",
    "    2. Extract features using TFIDF Vectorizer\n",
    "    3. Perform Multinomial Naive Bayes Claasification\n",
    "        - Apply MultinomialNB on training data\n",
    "        - Predict polarity by fitting the model to testing data\n",
    "        - Calculate accuracy of predicted values\n",
    "    4. Perform Random Forest classification on the processed data and compare the accuracy score of both these models"
   ]
  },
  {
   "cell_type": "code",
   "execution_count": 50,
   "metadata": {},
   "outputs": [],
   "source": [
    "# Load the libraries required for performing classification\n",
    "\n",
    "from sklearn.naive_bayes import MultinomialNB\n",
    "from sklearn.metrics import confusion_matrix, accuracy_score, f1_score, precision_score, recall_score"
   ]
  },
  {
   "cell_type": "code",
   "execution_count": 51,
   "metadata": {},
   "outputs": [],
   "source": [
    "# Split the data into training and testing data sets\n",
    "# Use processed data as independent variable and polarity as dependent variable\n",
    "\n",
    "X = df['processed_text'].values\n",
    "y = df['polarity_encoded'].values\n",
    "\n",
    "X_train, X_test, y_train, y_test = train_test_split(X,y, random_state=100, test_size=0.3)"
   ]
  },
  {
   "cell_type": "code",
   "execution_count": 52,
   "metadata": {},
   "outputs": [],
   "source": [
    "# Extract features using TFIDF Vectorizer\n",
    "\n",
    "vectorizer = TfidfVectorizer(max_features=1000)\n",
    "X_train_idf = vectorizer.fit_transform(X_train)\n",
    "X_test_idf = vectorizer.transform(X_test)"
   ]
  },
  {
   "cell_type": "code",
   "execution_count": 59,
   "metadata": {},
   "outputs": [
    {
     "data": {
      "text/plain": [
       "array(['10', '100', '1000', '11000th', '12', '150', '20', '200', '2000',\n",
       "       '2016', '201617', '2017', '24', '25', '29years', '2nd', '30', '40',\n",
       "       '500', '5lacs', '700000', '74', '80', '800', '8086', '90',\n",
       "       'aadhaar', 'aap', 'able', 'abov', 'abt', 'acc', 'account',\n",
       "       'accounts', 'across', 'action', 'actions', 'actually', 'address',\n",
       "       'adityanath', 'admissions', 'ads', 'adsense', 'advance', 'adverse',\n",
       "       'affected', 'ages', 'ahead', 'ahmedabad', 'ak', 'allowed', 'along',\n",
       "       'already', 'also', 'amazing', 'america', 'among', 'amp',\n",
       "       'analysis', 'anandkamal', 'annielowrey', 'announcement',\n",
       "       'announcements', 'another', 'answer', 'answered', 'antiromeo',\n",
       "       'anyone', 'anything', 'app', 'appearing', 'argument', 'army',\n",
       "       'around', 'article', 'arunjaitley', 'arvindkejriwal',\n",
       "       'arvindsubraman', 'asian', 'asked', 'atm', 'atms', 'away', 'back',\n",
       "       'bad', 'badly', 'bailed', 'ban', 'bandwagon', 'banerjee', 'bank',\n",
       "       'banking', 'banks', 'banned', 'base', 'basic', 'batch', 'bc',\n",
       "       'bcoz', 'become', 'beginning', 'behind', 'believe', 'benefits',\n",
       "       'bengal', 'best', 'better', 'bibi', 'big', 'biggest', 'bitcoin',\n",
       "       'bjp', 'bjp4india', 'black', 'blackmoney', 'blames', 'blast',\n",
       "       'blunder', 'bm', 'board', 'body', 'border', 'boycott',\n",
       "       'boycottsnapchat', 'briefing', 'bring', 'bsp', 'building',\n",
       "       'bulletin', 'buried', 'business', 'byelection', 'bypolls', 'ca',\n",
       "       'calling', 'calls', 'cash', 'cashless', 'caused', 'censoring',\n",
       "       'censorship', 'cgdtalks', 'chamchas', 'change', 'charges', 'check',\n",
       "       'chief', 'citizens', 'civil', 'claims', 'clean', 'clearly',\n",
       "       'closing', 'cm', 'coast', 'coated', 'cold', 'come', 'comes',\n",
       "       'coming', 'commitment', 'common', 'company', 'congress',\n",
       "       'consumer', 'continue', 'continues', 'contracts', 'convenience',\n",
       "       'convenientl', 'conversation', 'coop', 'corrupt', 'corruption',\n",
       "       'corruptionfreeindia', 'cost', 'could', 'country', 'courage',\n",
       "       'coverage', 'cpi', 'cr', 'created', 'creating', 'creativity',\n",
       "       'crisis', 'critical', 'criticism', 'crore', 'crores', 'crossed',\n",
       "       'crunch', 'curb', 'currency', 'current', 'cursing', 'cut',\n",
       "       'cvoter', 'daily', 'dasshaktikanta', 'data', 'daughter', 'day',\n",
       "       'days', 'de', 'dea', 'dear', 'deaths', 'debate', 'decide',\n",
       "       'decision', 'deep', 'delhi', 'delhities', 'deliberate',\n",
       "       'delisting', 'demanding', 'demo', 'demon', 'demonetisation',\n",
       "       'demonetizat', 'demonetization', 'demonstrating', 'deployment',\n",
       "       'deposits', 'despite', 'detaiend', 'development', 'dhan', 'died',\n",
       "       'digital', 'dire', 'disaster', 'disclosure', 'discontent', 'diwas',\n",
       "       'dog', 'done', 'dont', 'double', 'download', 'dr', 'drama',\n",
       "       'drive', 'drives', 'dry', 'due', 'duplicate', 'duty', 'dy',\n",
       "       'earlier', 'economic', 'economics', 'economy', 'ed', 'edict',\n",
       "       'education', 'effect', 'effects', 'effort', 'either', 'elec',\n",
       "       'emandis', 'end', 'ends', 'englis', 'enough', 'estate', 'etc',\n",
       "       'evanspiegel', 'even', 'everyday', 'everyone', 'evident', 'evm',\n",
       "       'evms', 'exactly', 'exchange', 'exclusive', 'execut', 'exercise',\n",
       "       'expect', 'explained', 'explains', 'exports', 'failure', 'fake',\n",
       "       'fall', 'families', 'far', 'farmers', 'fastest', 'feat',\n",
       "       'february', 'feedback', 'feel', 'ficn', 'fight', 'finally',\n",
       "       'financial', 'find', 'finding', 'fingers', 'finminindia', 'first',\n",
       "       'fishermen', 'fishy', 'flags', 'flouting', 'folks', 'following',\n",
       "       'force', 'formation', 'found', 'frankly', 'free', 'friends',\n",
       "       'full', 'fund', 'funds', 'future', 'game', 'gandhi', 'gau', 'gdp',\n",
       "       'ge', 'get', 'gets', 'getting', 'give', 'given', 'gives', 'giving',\n",
       "       'global', 'glvmi', 'go', 'goes', 'going', 'gold', 'gone', 'good',\n",
       "       'google', 'gops333', 'got', 'government', 'govt', 'grow', 'growth',\n",
       "       'gt', 'guess', 'gujarat', 'ha', 'hand', 'happiness', 'happy',\n",
       "       'hards', 'hate', 'hates', 'headline', 'hear', 'heard', 'held',\n",
       "       'hell', 'help', 'helped', 'high', 'hilarious', 'historic',\n",
       "       'historically', 'history', 'hit', 'hitler', 'hoarders', 'holders',\n",
       "       'home', 'homework', 'hon', 'honest', 'hope', 'hour', 'hours',\n",
       "       'hrs', 'ht', 'htt', 'http', 'huge', 'hurt', 'hv', 'idea', 'iip',\n",
       "       'immense', 'impact', 'implement', 'implementation', 'implemented',\n",
       "       'incident', 'income', 'inconvenience', 'increased', 'indeed',\n",
       "       'index', 'india', 'indiafightscorruption', 'indian', 'indians',\n",
       "       'indiatoday', 'indifferent', 'industrial', 'informed',\n",
       "       'initiative', 'innovative', 'insights', 'interesting', 'issue',\n",
       "       'issues', 'jan', 'jantar', 'ji', 'jio', 'job', 'join', 'joined',\n",
       "       'jumla', 'justify', 'ka', 'kashmir', 'keep', 'kept', 'kerala',\n",
       "       'kilafateh', 'killed', 'kishtwar', 'know', 'lack', 'lakh', 'lakhs',\n",
       "       'large', 'last', 'latest', 'launched', 'lead', 'leader', 'left',\n",
       "       'less', 'let', 'lets', 'license', 'life', 'lifeinsurance', 'like',\n",
       "       'line', 'lines', 'lingers', 'link', 'liquidity', 'listen', 'live',\n",
       "       'loan', 'loans', 'logic', 'lol', 'long', 'look', 'looking',\n",
       "       'loosened', 'loot', 'looted', 'lose', 'loss', 'lost', 'lot',\n",
       "       'love', 'ls', 'made', 'major', 'majority', 'make', 'makes',\n",
       "       'making', 'malda', 'mallya', 'mamata', 'mamataofficial', 'man',\n",
       "       'mandates', 'mantar', 'many', 'maoists', 'march', 'market',\n",
       "       'markets', 'martinravall', 'mas', 'massive', 'may',\n",
       "       'mayawatinextupcm', 'md', 'mean', 'means', 'media', 'medical',\n",
       "       'memeghnad', 'men', 'might', 'milkman', 'minimalism', 'minimathur',\n",
       "       'minister', 'minor', 'misery', 'missed', 'mla', 'mobile', 'mode',\n",
       "       'modi', 'momentous', 'money', 'month', 'months', 'morning',\n",
       "       'motilal', 'mounting', 'move', 'mps', 'mr', 'msisodia', 'much',\n",
       "       'mudra', 'munaf', 'must', 'na', 'name', 'narendra', 'narendramodi',\n",
       "       'nation', 'national', 'nationalists', 'naxals', 'ncbn', 'need',\n",
       "       'needed', 'needs', 'neem', 'negative', 'netascashin', 'never',\n",
       "       'new', 'news', 'next', 'nitishkumar', 'nmapp', 'noises',\n",
       "       'nomoneyyaar', 'none', 'note', 'notenahipmbadlo', 'notes',\n",
       "       'nothing', 'notice', 'nov', 'nt', 'offensive', 'officeofrg', 'old',\n",
       "       'one', 'online', 'open', 'oper', 'operation', 'opinions', 'oppn',\n",
       "       'opposing', 'opposition', 'oscar', 'oswal', 'otherwise', 'outside',\n",
       "       'overwhelming', 'owner', 'pa', 'paan', 'paid', 'pain', 'pakistan',\n",
       "       'pan', 'pappu', 'parliame', 'parliament', 'parliamenta', 'parlmnt',\n",
       "       'part', 'participate', 'parties', 'party', 'patel', 'pay',\n",
       "       'payments', 'paytm', 'pelting', 'people', 'peoples', 'per',\n",
       "       'percent', 'person', 'pet', 'petition', 'phase', 'pl', 'plan',\n",
       "       'planned', 'play', 'please', 'plz', 'pm', 'pmmodi', 'pmoindia',\n",
       "       'points', 'police', 'policy', 'political', 'politics',\n",
       "       'politicsit', 'poll', 'polls', 'poo', 'poor', 'positiv',\n",
       "       'positive', 'post', 'postdemonetization', 'poverty', 'ppl', 'pr',\n",
       "       'praising', 'prasadaol', 'price', 'prices', 'prime', 'prob',\n",
       "       'problem', 'problems', 'production', 'productivity', 'prof',\n",
       "       'profit', 'prohibition', 'propaganda', 'protest', 'protesting',\n",
       "       'prove', 'proved', 'proves', 'public', 'purchases', 'push', 'put',\n",
       "       'putting', 'que', 'question', 'questions', 'queue', 'queues',\n",
       "       'quiet', 'raids', 'rakshaks', 'rashminp', 'ratantata', 'rbi',\n",
       "       'reaction', 'read', 'real', 'really', 'reason', 'recalibrated',\n",
       "       'reconfigured', 'recovered', 'reddy', 'reduced', 'reflected',\n",
       "       'reinstate', 'related', 'reminds', 'remonetized', 'report',\n",
       "       'reports', 'required', 'requires', 'research', 'response',\n",
       "       'responsible', 'rest', 'restrictions', 'result', 'results',\n",
       "       'retaining', 'rich', 'richer', 'riffin', 'right', 'rkhuria',\n",
       "       'road', 'robberies', 'routine', 'rs', 'rt', 'rules', 'run',\n",
       "       'running', 'rupee', 'rupees', 'rural', 'sad', 'said', 'sales',\n",
       "       'say', 'says', 'sc', 'scale', 'scam', 'scheme', 'se', 'season',\n",
       "       'seats', 'secure', 'security', 'secy', 'see', 'seeing', 'seems',\n",
       "       'seizes', 'seriously', 'service', 'services', 'set', 'severe',\n",
       "       'share', 'shop', 'shopping', 'shortage', 'shut', 'sim', 'since',\n",
       "       'situation', 'sleeps', 'slip', 'small', 'snapchat', 'social',\n",
       "       'solidarity', 'solution', 'sonunigam', 'soon', 'sources', 'speech',\n",
       "       'spread', 'staff', 'stand', 'standing', 'started', 'startup',\n",
       "       'state', 'station', 'stay', 'step', 'steps', 'still', 'stone',\n",
       "       'stop', 'story', 'strategy', 'street', 'struggle', 'struggling',\n",
       "       'stuff', 'stunts', 'su', 'subtitles', 'subverting', 'success',\n",
       "       'successful', 'suffered', 'suffering', 'supply', 'supplying',\n",
       "       'support', 'supported', 'supporting', 'supports', 'supposed',\n",
       "       'sure', 'surrender', 'survey', 'surveyed', 'suspect', 'suspects',\n",
       "       'swachata', 'swift', 'system', 'take', 'taken', 'taking',\n",
       "       'talking', 'tamperproof', 'tarekfatah', 'taught', 'tax', 'tc',\n",
       "       'tco', 'tco0fmh3umbvq', 'tco3tp2svf', 'tco4rmd7fpfaw',\n",
       "       'tco9nhek63tpg', 'tcoa8of7zh2f5', 'tcod85bidmvfm', 'tcodgai5cf05y',\n",
       "       'tcoe', 'tcofrthy2ltth', 'tcog', 'tcoheteyum0ch', 'tcolffzzfokf8',\n",
       "       'tconvv7slccpr', 'tcoobqrhlnsl6', 'tcop6hkkdva3b', 'tcopk9qo92k4n',\n",
       "       'tcopygk8rmg7r', 'tcorijenewx7y', 'tcorng1gkiugm', 'tcot1agu6ch33',\n",
       "       'tcotdj2a6uo5u', 'tcouc6jrbvune', 'tcouodwxdpmmg', 'tcox2me55opks',\n",
       "       'team', 'technology', 'telangana', 'tell', 'tells', 'terrorism',\n",
       "       'terrorists', 'th', 'thank', 'thanks', 'thing', 'things', 'think',\n",
       "       'third', 'though', 'thought', 'thoughts', 'thug', 'thus', 'ti',\n",
       "       'time', 'times', 'tmc', 'tobaccogutkha', 'today', 'told',\n",
       "       'tomorrow', 'took', 'totally', 'towards', 'trade', 'tragic',\n",
       "       'transaction', 'transactions', 'transparent', 'true', 'trust',\n",
       "       'trustbjp', 'truth', 'trxns', 'trying', 'ts', 'turks', 'turning',\n",
       "       'tweet', 'two', 'u0082', 'u0087', 'u0089', 'u008a', 'u008d',\n",
       "       'u008f', 'u0092', 'u009c', 'u00a0', 'u00a2', 'u00a5', 'u00a9',\n",
       "       'u00ad', 'u00b1', 'u00b2', 'u00b4', 'u00b7', 'u00b8', 'u00b9',\n",
       "       'u00bb', 'u00bc', 'u00bd', 'u00be', 'u00bf', 'u0902', 'u0915',\n",
       "       'u092a', 'u092c', 'u092d', 'u092f', 'u0930', 'u0935', 'u0938',\n",
       "       'u093e', 'u0941', 'u0947', 'u094d', 'u200d', 'u20b9', 'u2642',\n",
       "       'u2753', 'ufe0f', 'ujjwala', 'unaffected', 'understand',\n",
       "       'uneducated', 'universal', 'unprecedent', 'unrest', 'uns',\n",
       "       'upma23', 'ur', 'urea', 'us', 'use', 'used', 'useless', 'using',\n",
       "       'usual', 'vaidyanathan', 'via', 'video', 'videos', 'view', 'views',\n",
       "       'vijay', 'vijaymallya', 'vindicated', 'vocal', 'vote', 'voted',\n",
       "       'waiting', 'waived', 'walk', 'want', 'wants', 'war', 'washington',\n",
       "       'watch', 'watched', 'watching', 'wave', 'way', 'ways', 'wedding',\n",
       "       'weekend', 'weeks', 'well', 'west', 'whammy', 'whether', 'white',\n",
       "       'whooping', 'wil', 'windfall', 'winter', 'wiped', 'wise',\n",
       "       'withdraw', 'withdrawal', 'without', 'wo', 'work', 'working',\n",
       "       'world', 'worldbank', 'worried', 'worth', 'would', 'writes',\n",
       "       'year', 'yearend', 'years', 'yes', 'yet', 'yoga', 'yogi', 'young',\n",
       "       'youtube', 'youtubeisdead', 'youtubers', 'ysrcp'], dtype=object)"
      ]
     },
     "execution_count": 59,
     "metadata": {},
     "output_type": "execute_result"
    }
   ],
   "source": [
    "vectorizer.get_feature_names_out()"
   ]
  },
  {
   "cell_type": "code",
   "execution_count": 61,
   "metadata": {},
   "outputs": [
    {
     "data": {
      "text/plain": [
       "array([7.16427128, 6.78957783, 6.6717948 , 6.9972172 , 6.34329073,\n",
       "       7.07725991, 5.8732871 , 7.16427128, 5.80096644, 6.78957783,\n",
       "       6.85411636, 6.56643428, 6.065659  , 6.6717948 , 6.9972172 ,\n",
       "       6.72895321, 5.89860491, 4.24896058, 5.73352516, 6.42667234,\n",
       "       6.34329073, 6.03580603, 6.72895321, 6.92310923, 5.18013992,\n",
       "       6.56643428, 7.07725991, 6.92310923, 7.36494198, 5.73352516,\n",
       "       6.85411636, 6.0068185 , 7.36494198, 7.16427128, 4.51874144,\n",
       "       6.26632969, 6.0068185 , 3.44627443, 5.71201896, 5.45129269,\n",
       "       7.36494198, 5.23143322, 7.25958146, 7.36494198, 7.25958146,\n",
       "       6.19487073, 5.65014355, 5.13134976, 6.6717948 , 6.19487073,\n",
       "       7.16427128, 6.30407002, 5.35747394, 6.30407002, 6.34329073,\n",
       "       6.92310923, 5.95124864, 2.93544881, 7.07725991, 6.92310923,\n",
       "       6.56643428, 7.07725991, 6.4711241 , 5.9245804 , 6.9972172 ,\n",
       "       7.16427128, 6.51764412, 7.16427128, 6.92310923, 4.80857637,\n",
       "       6.9972172 , 6.92310923, 6.0068185 , 6.56643428, 5.50172355,\n",
       "       6.065659  , 5.53681487, 6.12817935, 6.03580603, 6.6717948 ,\n",
       "       6.065659  , 4.45017877, 6.42667234, 4.48699274, 6.12817935,\n",
       "       7.36494198, 6.065659  , 5.41903183, 6.6717948 , 6.85411636,\n",
       "       3.7630739 , 6.12817935, 5.25810146, 6.09643065, 7.07725991,\n",
       "       7.25958146, 6.42667234, 6.72895321, 6.51764412, 5.95124864,\n",
       "       6.85411636, 6.4711241 , 5.65014355, 5.77797692, 5.77797692,\n",
       "       7.16427128, 7.07725991, 6.38411273, 5.9245804 , 6.56643428,\n",
       "       7.16427128, 4.81723443, 6.85411636, 5.02956706, 5.43503217,\n",
       "       6.03580603, 7.36494198, 6.9972172 , 6.85411636, 7.36494198,\n",
       "       6.92310923, 6.26632969, 6.92310923, 6.85411636, 6.0068185 ,\n",
       "       6.9972172 , 6.85411636, 7.25958146, 6.78957783, 6.9972172 ,\n",
       "       6.85411636, 5.73352516, 5.20545773, 5.75550407, 5.8732871 ,\n",
       "       6.9972172 , 4.06910511, 6.51764412, 6.72895321, 7.07725991,\n",
       "       6.34329073, 6.9972172 , 7.07725991, 6.61772758, 6.92310923,\n",
       "       6.30407002, 7.16427128, 6.19487073, 6.92310923, 5.18013992,\n",
       "       7.07725991, 4.81723443, 6.065659  , 6.72895321, 6.34329073,\n",
       "       5.25810146, 7.16427128, 5.53681487, 6.16096918, 6.09643065,\n",
       "       6.42667234, 6.56643428, 7.36494198, 7.07725991, 6.6717948 ,\n",
       "       7.16427128, 6.72895321, 6.22996205, 6.6717948 , 6.9972172 ,\n",
       "       7.25958146, 7.36494198, 6.42667234, 5.53681487, 6.065659  ,\n",
       "       7.25958146, 6.19487073, 5.73352516, 6.6717948 , 7.25958146,\n",
       "       6.6717948 , 6.30407002, 6.9972172 , 6.72895321, 7.25958146,\n",
       "       5.82449694, 4.91777566, 7.16427128, 7.07725991, 5.61092284,\n",
       "       6.78957783, 6.72895321, 7.25958146, 6.22996205, 6.92310923,\n",
       "       6.92310923, 6.92310923, 5.10781926, 5.51911529, 5.46782199,\n",
       "       6.9972172 , 5.57318251, 5.9245804 , 5.55483337, 6.51764412,\n",
       "       5.89860491, 3.44848438, 6.85411636, 6.16096918, 6.6717948 ,\n",
       "       5.23143322, 7.25958146, 6.6717948 , 6.92310923, 7.36494198,\n",
       "       7.07725991, 6.22996205, 5.28550044, 7.16427128, 5.84859449,\n",
       "       6.4711241 , 1.10919194, 6.22996205, 6.78957783, 6.92310923,\n",
       "       6.30407002, 6.92310923, 5.95124864, 5.24467844, 6.85411636,\n",
       "       5.29948668, 6.78957783, 6.9972172 , 4.96704671, 7.36494198,\n",
       "       6.56643428, 6.30407002, 5.82449694, 6.92310923, 6.61772758,\n",
       "       7.07725991, 7.36494198, 6.4711241 , 6.38411273, 6.56643428,\n",
       "       6.9972172 , 4.7499822 , 6.9972172 , 6.85411636, 6.6717948 ,\n",
       "       7.07725991, 5.45129269, 5.89860491, 5.02956706, 3.67606253,\n",
       "       4.93719374, 5.77797692, 4.98745558, 7.16427128, 7.25958146,\n",
       "       7.36494198, 5.97864762, 5.25810146, 6.0068185 , 5.61092284,\n",
       "       6.16096918, 7.07725991, 6.9972172 , 5.9245804 , 3.44406936,\n",
       "       5.51911529, 7.25958146, 6.34329073, 7.25958146, 7.07725991,\n",
       "       6.85411636, 5.82449694, 6.72895321, 7.16427128, 6.92310923,\n",
       "       7.16427128, 7.25958146, 6.85411636, 6.19487073, 6.61772758,\n",
       "       6.72895321, 5.69096555, 6.78957783, 7.16427128, 5.73352516,\n",
       "       6.51764412, 6.85411636, 6.9972172 , 7.25958146, 6.03580603,\n",
       "       6.51764412, 6.72895321, 6.03580603, 6.61772758, 7.16427128,\n",
       "       3.3967487 , 7.25958146, 6.78957783, 6.22996205, 5.10781926,\n",
       "       6.34329073, 4.95699637, 5.53681487, 7.16427128, 6.56643428,\n",
       "       7.16427128, 6.34329073, 7.07725991, 6.6717948 , 6.92310923,\n",
       "       6.51764412, 6.61772758, 4.82596811, 5.51911529, 6.85411636,\n",
       "       6.85411636, 7.16427128, 6.065659  , 6.56643428, 7.25958146,\n",
       "       5.53681487, 5.35747394, 6.72895321, 6.03580603, 6.03580603,\n",
       "       6.85411636, 6.61772758, 7.25958146, 6.92310923, 5.65014355,\n",
       "       5.95124864, 4.71797947, 5.40328347, 7.16427128, 6.6717948 ,\n",
       "       5.07353019, 6.4711241 , 7.07725991, 5.27170712, 5.63034092,\n",
       "       4.59235326, 5.69096555, 6.38411273, 7.25958146, 7.07725991,\n",
       "       5.53681487, 7.36494198, 7.07725991, 6.56643428, 7.07725991,\n",
       "       6.6717948 , 7.07725991, 7.36494198, 6.03580603, 6.9972172 ,\n",
       "       6.065659  , 7.16427128, 7.36494198, 5.89860491, 6.19487073,\n",
       "       6.78957783, 6.4711241 , 6.85411636, 5.24467844, 6.85411636,\n",
       "       6.85411636, 6.6717948 , 6.9972172 , 7.25958146, 7.36494198,\n",
       "       7.16427128, 7.16427128, 6.78957783, 6.92310923, 6.61772758,\n",
       "       6.34329073, 7.36494198, 6.78957783, 6.22996205, 6.19487073,\n",
       "       5.10781926, 7.16427128, 6.30407002, 6.56643428, 6.26632969,\n",
       "       6.61772758, 4.22944776, 3.40307117, 6.26632969, 7.36494198,\n",
       "       4.25886165, 6.42667234, 6.03580603, 6.9972172 , 6.42667234,\n",
       "       6.61772758, 2.64248271, 6.16096918, 5.50172355, 6.0068185 ,\n",
       "       6.9972172 , 6.61772758, 6.6717948 , 4.93719374, 6.38411273,\n",
       "       6.85411636, 6.56643428, 7.07725991, 6.56643428, 6.61772758,\n",
       "       5.24467844, 6.92310923, 5.43503217, 7.16427128, 7.16427128,\n",
       "       5.69096555, 6.16096918, 7.36494198, 7.36494198, 7.36494198,\n",
       "       5.61092284, 6.12817935, 6.065659  , 5.97864762, 7.07725991,\n",
       "       7.25958146, 4.27389953, 5.75550407, 6.065659  , 4.07322883,\n",
       "       7.36494198, 6.61772758, 6.51764412, 7.07725991, 7.16427128,\n",
       "       6.51764412, 6.9972172 , 6.92310923, 5.84859449, 6.9972172 ,\n",
       "       7.36494198, 6.9972172 , 5.38777929, 6.6717948 , 4.62052413,\n",
       "       5.73352516, 6.72895321, 7.36494198, 7.07725991, 6.72895321,\n",
       "       7.36494198, 6.4711241 , 5.89860491, 7.07725991, 7.16427128,\n",
       "       6.72895321, 6.065659  , 7.16427128, 6.6717948 , 5.29948668,\n",
       "       5.75550407, 4.27389953, 7.25958146, 6.85411636, 5.28550044,\n",
       "       6.4711241 , 6.065659  , 5.71201896, 6.51764412, 6.51764412,\n",
       "       6.42667234, 6.22996205, 5.8732871 , 6.38411273, 6.19487073,\n",
       "       5.53681487, 5.50172355, 7.16427128, 5.1677174 , 7.07725991,\n",
       "       6.92310923, 5.9245804 , 6.22996205, 6.6717948 , 6.72895321,\n",
       "       6.85411636, 7.25958146, 6.065659  , 6.92310923, 6.51764412,\n",
       "       7.25958146, 7.25958146, 6.61772758, 6.6717948 , 6.03580603,\n",
       "       7.25958146, 6.38411273, 5.9245804 , 6.42667234, 6.92310923,\n",
       "       6.56643428, 6.34329073, 6.0068185 , 6.6717948 , 6.61772758,\n",
       "       7.16427128, 7.07725991, 6.92310923, 7.25958146, 2.60371816,\n",
       "       6.6717948 , 4.33105794, 7.25958146, 6.56643428, 5.9245804 ,\n",
       "       5.59187464, 6.61772758, 4.41467208, 6.03580603, 4.67936463,\n",
       "       6.85411636, 6.19487073, 6.72895321, 5.67034626, 5.55483337,\n",
       "       6.38411273, 7.25958146, 3.31605979, 3.71572778, 4.32572459,\n",
       "       7.07725991, 6.03580603, 6.9972172 , 6.9972172 , 5.73352516,\n",
       "       6.26632969, 7.25958146, 5.25810146, 7.16427128, 7.25958146,\n",
       "       7.07725991, 5.41903183, 5.89860491, 6.9972172 , 5.14332595,\n",
       "       7.16427128, 6.9972172 , 6.22996205, 6.42667234, 5.24467844,\n",
       "       7.07725991, 4.92743757, 6.065659  , 7.36494198, 7.25958146,\n",
       "       4.22462848, 6.9972172 , 6.9972172 , 6.19487073, 5.82449694,\n",
       "       6.42667234, 6.78957783, 7.16427128, 7.16427128, 6.42667234,\n",
       "       7.36494198, 6.19487073, 5.23143322, 4.79999262, 5.59187464,\n",
       "       7.36494198, 6.9972172 , 5.89860491, 6.72895321, 7.36494198,\n",
       "       6.85411636, 6.72895321, 7.36494198, 6.6717948 , 6.51764412,\n",
       "       5.75550407, 6.22996205, 5.40328347, 7.16427128, 6.56643428,\n",
       "       5.97864762, 7.07725991, 6.34329073, 4.96704671, 5.67034626,\n",
       "       7.36494198, 5.89860491, 4.77467481, 6.56643428, 3.60892322,\n",
       "       7.36494198, 6.56643428, 6.9972172 , 7.07725991, 6.065659  ,\n",
       "       7.36494198, 7.25958146, 7.07725991, 7.25958146, 6.4711241 ,\n",
       "       7.25958146, 5.84859449, 7.25958146, 2.74543068, 7.07725991,\n",
       "       5.18013992, 6.85411636, 6.4711241 , 6.85411636, 5.71201896,\n",
       "       5.04037798, 6.0068185 , 5.97864762, 7.07725991, 6.4711241 ,\n",
       "       4.96704671, 6.03580603, 5.46782199, 5.43503217, 7.16427128,\n",
       "       7.07725991, 6.34329073, 6.51764412, 6.61772758, 6.9972172 ,\n",
       "       6.38411273, 6.78957783, 6.22996205, 6.38411273, 6.78957783,\n",
       "       6.92310923, 6.56643428, 7.16427128, 6.72895321, 6.16096918,\n",
       "       6.16096918, 6.9972172 , 6.38411273, 6.9972172 , 5.51911529,\n",
       "       5.65014355, 6.4711241 , 6.26632969, 7.16427128, 6.92310923,\n",
       "       6.26632969, 5.15544731, 6.61772758, 4.45017877, 7.16427128,\n",
       "       6.6717948 , 6.42667234, 6.065659  , 7.25958146, 6.56643428,\n",
       "       6.9972172 , 6.61772758, 5.41903183, 6.9972172 , 5.8732871 ,\n",
       "       5.97864762, 7.16427128, 6.34329073, 7.16427128, 6.78957783,\n",
       "       7.25958146, 6.9972172 , 6.72895321, 6.0068185 , 5.51911529,\n",
       "       7.16427128, 6.9972172 , 7.25958146, 5.89860491, 6.92310923,\n",
       "       6.9972172 , 4.95699637, 7.07725991, 5.89860491, 7.07725991,\n",
       "       7.36494198, 5.29948668, 5.29948668, 5.55483337, 5.73352516,\n",
       "       3.34956046, 7.25958146, 7.16427128, 6.51764412, 7.07725991,\n",
       "       6.9972172 , 6.09643065, 6.09643065, 4.00920697, 7.16427128,\n",
       "       6.9972172 , 6.92310923, 4.98745558, 7.25958146, 7.16427128,\n",
       "       7.16427128, 7.07725991, 6.09643065, 6.72895321, 5.61092284,\n",
       "       4.7499822 , 6.9972172 , 6.92310923, 6.61772758, 6.78957783,\n",
       "       7.16427128, 7.25958146, 5.67034626, 6.72895321, 6.16096918,\n",
       "       5.89860491, 6.09643065, 5.63034092, 6.42667234, 6.34329073,\n",
       "       7.25958146, 6.6717948 , 5.53681487, 6.85411636, 6.6717948 ,\n",
       "       7.07725991, 6.72895321, 6.9972172 , 4.91777566, 6.9972172 ,\n",
       "       7.25958146, 4.17767149, 7.16427128, 7.07725991, 6.9972172 ,\n",
       "       6.78957783, 7.07725991, 7.25958146, 6.19487073, 6.72895321,\n",
       "       6.4711241 , 7.25958146, 6.9972172 , 6.61772758, 6.03580603,\n",
       "       6.03580603, 6.78957783, 5.55483337, 6.6717948 , 7.36494198,\n",
       "       5.61092284, 6.92310923, 7.36494198, 6.72895321, 6.78957783,\n",
       "       4.71013629, 6.38411273, 5.84859449, 6.85411636, 5.97864762,\n",
       "       6.85411636, 7.16427128, 7.07725991, 6.61772758, 6.61772758,\n",
       "       5.23143322, 7.25958146, 7.07725991, 7.16427128, 5.50172355,\n",
       "       7.25958146, 7.25958146, 5.9245804 , 7.07725991, 4.17309483,\n",
       "       7.36494198, 6.78957783, 4.73385282, 7.07725991, 7.36494198,\n",
       "       7.07725991, 5.09625844, 7.16427128, 5.97864762, 7.07725991,\n",
       "       6.56643428, 6.78957783, 5.38777929, 5.23143322, 6.42667234,\n",
       "       5.80096644, 7.16427128, 7.36494198, 6.85411636, 6.56643428,\n",
       "       6.51764412, 5.41903183, 5.63034092, 7.25958146, 6.30407002,\n",
       "       6.78957783, 6.26632969, 7.07725991, 6.78957783, 5.9245804 ,\n",
       "       6.34329073, 6.61772758, 7.36494198, 6.51764412, 7.07725991,\n",
       "       6.9972172 , 4.79999262, 6.9972172 , 6.9972172 , 6.065659  ,\n",
       "       7.36494198, 7.36494198, 7.25958146, 6.0068185 , 6.9972172 ,\n",
       "       5.14332595, 7.07725991, 7.16427128, 6.26632969, 6.72895321,\n",
       "       6.72895321, 7.16427128, 6.56643428, 4.08152763, 7.36494198,\n",
       "       6.4711241 , 5.8732871 , 6.78957783, 6.85411636, 5.40328347,\n",
       "       4.25886165, 6.85411636, 5.53681487, 6.78957783, 6.85411636,\n",
       "       5.53681487, 6.6717948 , 5.28550044, 7.07725991, 7.07725991,\n",
       "       6.16096918, 5.02956706, 6.61772758, 6.9972172 , 7.25958146,\n",
       "       6.61772758, 7.16427128, 7.25958146, 7.07725991, 6.85411636,\n",
       "       6.85411636, 6.0068185 , 6.56643428, 6.6717948 , 6.9972172 ,\n",
       "       6.34329073, 7.16427128, 7.16427128, 6.6717948 , 7.16427128,\n",
       "       6.9972172 , 6.19487073, 7.07725991, 5.65014355, 7.36494198,\n",
       "       6.72895321, 7.16427128, 5.65014355, 6.22996205, 7.25958146,\n",
       "       6.0068185 , 3.67884417, 4.79999262, 4.79999262, 4.79999262,\n",
       "       4.79999262, 5.97864762, 6.78957783, 5.77797692, 5.9245804 ,\n",
       "       4.05277822, 5.9245804 , 6.0068185 , 5.8732871 , 3.78761501,\n",
       "       5.73352516, 5.9245804 , 6.78957783, 4.67181743, 6.61772758,\n",
       "       7.48272502, 4.79148193, 7.25958146, 6.51764412, 4.7499822 ,\n",
       "       6.85411636, 4.6063395 , 4.73385282, 6.92310923, 6.78957783,\n",
       "       6.065659  , 6.61772758, 6.065659  , 6.92310923, 6.065659  ,\n",
       "       5.25810146, 7.25958146, 5.69096555, 7.25958146, 7.25958146,\n",
       "       5.27170712, 7.16427128, 7.07725991, 6.92310923, 6.4711241 ,\n",
       "       5.25810146, 5.57318251, 6.61772758, 6.56643428, 6.34329073,\n",
       "       6.6717948 , 6.9972172 , 6.72895321, 5.35747394, 5.57318251,\n",
       "       5.20545773, 7.25958146, 6.56643428, 6.6717948 , 6.03580603,\n",
       "       7.16427128, 7.25958146, 5.84859449, 6.51764412, 6.9972172 ,\n",
       "       5.95124864, 6.065659  , 6.92310923, 6.78957783, 6.78957783,\n",
       "       7.25958146, 5.14332595, 5.53681487, 6.42667234, 5.48462911,\n",
       "       6.61772758, 7.16427128, 5.31367132, 7.07725991, 6.4711241 ,\n",
       "       6.6717948 , 7.07725991, 6.6717948 , 5.41903183, 6.85411636,\n",
       "       6.26632969, 6.92310923, 6.22996205, 7.36494198, 6.92310923,\n",
       "       6.6717948 , 6.78957783, 5.27170712, 7.07725991, 6.61772758,\n",
       "       7.16427128, 7.16427128, 5.53681487, 6.78957783, 6.9972172 ,\n",
       "       5.80096644, 6.19487073, 6.42667234, 7.36494198, 6.065659  ,\n",
       "       6.26632969, 6.92310923, 6.065659  , 6.56643428, 5.45129269,\n",
       "       7.25958146, 4.33105794, 6.9972172 , 7.25958146, 7.77040709])"
      ]
     },
     "execution_count": 61,
     "metadata": {},
     "output_type": "execute_result"
    }
   ],
   "source": [
    "vectorizer.idf_"
   ]
  },
  {
   "cell_type": "code",
   "execution_count": 60,
   "metadata": {},
   "outputs": [
    {
     "data": {
      "text/html": [
       "<div>\n",
       "<style scoped>\n",
       "    .dataframe tbody tr th:only-of-type {\n",
       "        vertical-align: middle;\n",
       "    }\n",
       "\n",
       "    .dataframe tbody tr th {\n",
       "        vertical-align: top;\n",
       "    }\n",
       "\n",
       "    .dataframe thead th {\n",
       "        text-align: right;\n",
       "    }\n",
       "</style>\n",
       "<table border=\"1\" class=\"dataframe\">\n",
       "  <thead>\n",
       "    <tr style=\"text-align: right;\">\n",
       "      <th></th>\n",
       "      <th>idf_weights</th>\n",
       "    </tr>\n",
       "  </thead>\n",
       "  <tbody>\n",
       "    <tr>\n",
       "      <th>ysrcp</th>\n",
       "      <td>7.770407</td>\n",
       "    </tr>\n",
       "    <tr>\n",
       "      <th>u092c</th>\n",
       "      <td>7.482725</td>\n",
       "    </tr>\n",
       "    <tr>\n",
       "      <th>oppn</th>\n",
       "      <td>7.364942</td>\n",
       "    </tr>\n",
       "    <tr>\n",
       "      <th>lakhs</th>\n",
       "      <td>7.364942</td>\n",
       "    </tr>\n",
       "    <tr>\n",
       "      <th>lets</th>\n",
       "      <td>7.364942</td>\n",
       "    </tr>\n",
       "  </tbody>\n",
       "</table>\n",
       "</div>"
      ],
      "text/plain": [
       "       idf_weights\n",
       "ysrcp     7.770407\n",
       "u092c     7.482725\n",
       "oppn      7.364942\n",
       "lakhs     7.364942\n",
       "lets      7.364942"
      ]
     },
     "execution_count": 60,
     "metadata": {},
     "output_type": "execute_result"
    }
   ],
   "source": [
    "# Print idf values\n",
    "df_idf = pd.DataFrame(vectorizer.idf_, index=vectorizer.get_feature_names_out(),columns=[\"idf_weights\"])\n",
    "# Sort ascending\n",
    "df_idf.sort_values(by=['idf_weights'],ascending = False).head()"
   ]
  },
  {
   "cell_type": "code",
   "execution_count": 62,
   "metadata": {},
   "outputs": [
    {
     "data": {
      "text/html": [
       "<style>#sk-container-id-3 {color: black;}#sk-container-id-3 pre{padding: 0;}#sk-container-id-3 div.sk-toggleable {background-color: white;}#sk-container-id-3 label.sk-toggleable__label {cursor: pointer;display: block;width: 100%;margin-bottom: 0;padding: 0.3em;box-sizing: border-box;text-align: center;}#sk-container-id-3 label.sk-toggleable__label-arrow:before {content: \"▸\";float: left;margin-right: 0.25em;color: #696969;}#sk-container-id-3 label.sk-toggleable__label-arrow:hover:before {color: black;}#sk-container-id-3 div.sk-estimator:hover label.sk-toggleable__label-arrow:before {color: black;}#sk-container-id-3 div.sk-toggleable__content {max-height: 0;max-width: 0;overflow: hidden;text-align: left;background-color: #f0f8ff;}#sk-container-id-3 div.sk-toggleable__content pre {margin: 0.2em;color: black;border-radius: 0.25em;background-color: #f0f8ff;}#sk-container-id-3 input.sk-toggleable__control:checked~div.sk-toggleable__content {max-height: 200px;max-width: 100%;overflow: auto;}#sk-container-id-3 input.sk-toggleable__control:checked~label.sk-toggleable__label-arrow:before {content: \"▾\";}#sk-container-id-3 div.sk-estimator input.sk-toggleable__control:checked~label.sk-toggleable__label {background-color: #d4ebff;}#sk-container-id-3 div.sk-label input.sk-toggleable__control:checked~label.sk-toggleable__label {background-color: #d4ebff;}#sk-container-id-3 input.sk-hidden--visually {border: 0;clip: rect(1px 1px 1px 1px);clip: rect(1px, 1px, 1px, 1px);height: 1px;margin: -1px;overflow: hidden;padding: 0;position: absolute;width: 1px;}#sk-container-id-3 div.sk-estimator {font-family: monospace;background-color: #f0f8ff;border: 1px dotted black;border-radius: 0.25em;box-sizing: border-box;margin-bottom: 0.5em;}#sk-container-id-3 div.sk-estimator:hover {background-color: #d4ebff;}#sk-container-id-3 div.sk-parallel-item::after {content: \"\";width: 100%;border-bottom: 1px solid gray;flex-grow: 1;}#sk-container-id-3 div.sk-label:hover label.sk-toggleable__label {background-color: #d4ebff;}#sk-container-id-3 div.sk-serial::before {content: \"\";position: absolute;border-left: 1px solid gray;box-sizing: border-box;top: 0;bottom: 0;left: 50%;z-index: 0;}#sk-container-id-3 div.sk-serial {display: flex;flex-direction: column;align-items: center;background-color: white;padding-right: 0.2em;padding-left: 0.2em;position: relative;}#sk-container-id-3 div.sk-item {position: relative;z-index: 1;}#sk-container-id-3 div.sk-parallel {display: flex;align-items: stretch;justify-content: center;background-color: white;position: relative;}#sk-container-id-3 div.sk-item::before, #sk-container-id-3 div.sk-parallel-item::before {content: \"\";position: absolute;border-left: 1px solid gray;box-sizing: border-box;top: 0;bottom: 0;left: 50%;z-index: -1;}#sk-container-id-3 div.sk-parallel-item {display: flex;flex-direction: column;z-index: 1;position: relative;background-color: white;}#sk-container-id-3 div.sk-parallel-item:first-child::after {align-self: flex-end;width: 50%;}#sk-container-id-3 div.sk-parallel-item:last-child::after {align-self: flex-start;width: 50%;}#sk-container-id-3 div.sk-parallel-item:only-child::after {width: 0;}#sk-container-id-3 div.sk-dashed-wrapped {border: 1px dashed gray;margin: 0 0.4em 0.5em 0.4em;box-sizing: border-box;padding-bottom: 0.4em;background-color: white;}#sk-container-id-3 div.sk-label label {font-family: monospace;font-weight: bold;display: inline-block;line-height: 1.2em;}#sk-container-id-3 div.sk-label-container {text-align: center;}#sk-container-id-3 div.sk-container {/* jupyter's `normalize.less` sets `[hidden] { display: none; }` but bootstrap.min.css set `[hidden] { display: none !important; }` so we also need the `!important` here to be able to override the default hidden behavior on the sphinx rendered scikit-learn.org. See: https://github.com/scikit-learn/scikit-learn/issues/21755 */display: inline-block !important;position: relative;}#sk-container-id-3 div.sk-text-repr-fallback {display: none;}</style><div id=\"sk-container-id-3\" class=\"sk-top-container\"><div class=\"sk-text-repr-fallback\"><pre>MultinomialNB()</pre><b>In a Jupyter environment, please rerun this cell to show the HTML representation or trust the notebook. <br />On GitHub, the HTML representation is unable to render, please try loading this page with nbviewer.org.</b></div><div class=\"sk-container\" hidden><div class=\"sk-item\"><div class=\"sk-estimator sk-toggleable\"><input class=\"sk-toggleable__control sk-hidden--visually\" id=\"sk-estimator-id-3\" type=\"checkbox\" checked><label for=\"sk-estimator-id-3\" class=\"sk-toggleable__label sk-toggleable__label-arrow\">MultinomialNB</label><div class=\"sk-toggleable__content\"><pre>MultinomialNB()</pre></div></div></div></div></div>"
      ],
      "text/plain": [
       "MultinomialNB()"
      ]
     },
     "execution_count": 62,
     "metadata": {},
     "output_type": "execute_result"
    }
   ],
   "source": [
    "# Perform Multinomial Naive Bayes Classification\n",
    "# Apply MultinomialNB on training data\n",
    "mnb = MultinomialNB()\n",
    "mnb.fit(X_train_idf, y_train)"
   ]
  },
  {
   "cell_type": "code",
   "execution_count": 63,
   "metadata": {},
   "outputs": [
    {
     "name": "stdout",
     "output_type": "stream",
     "text": [
      "                     Model  Accuracy\n",
      "0  Multinomial Naive Bayes    0.8639\n"
     ]
    }
   ],
   "source": [
    "# Predict polarity by fitting the model to testing data\n",
    "pred_mnb = mnb.predict(X_test_idf)\n",
    "\n",
    "# Calculate accuracy of predicted values\n",
    "acc = accuracy_score(y_test, pred_mnb)\n",
    "\n",
    "\n",
    "results = pd.DataFrame([['Multinomial Naive Bayes', acc]],\n",
    "               columns = ['Model', 'Accuracy'])\n",
    "\n",
    "print(results)"
   ]
  },
  {
   "cell_type": "code",
   "execution_count": 69,
   "metadata": {},
   "outputs": [
    {
     "data": {
      "text/html": [
       "<div>\n",
       "<style scoped>\n",
       "    .dataframe tbody tr th:only-of-type {\n",
       "        vertical-align: middle;\n",
       "    }\n",
       "\n",
       "    .dataframe tbody tr th {\n",
       "        vertical-align: top;\n",
       "    }\n",
       "\n",
       "    .dataframe thead th {\n",
       "        text-align: right;\n",
       "    }\n",
       "</style>\n",
       "<table border=\"1\" class=\"dataframe\">\n",
       "  <thead>\n",
       "    <tr style=\"text-align: right;\">\n",
       "      <th></th>\n",
       "      <th>Model</th>\n",
       "      <th>Accuracy</th>\n",
       "    </tr>\n",
       "  </thead>\n",
       "  <tbody>\n",
       "    <tr>\n",
       "      <th>0</th>\n",
       "      <td>Random Forest(Gini)</td>\n",
       "      <td>0.928157</td>\n",
       "    </tr>\n",
       "  </tbody>\n",
       "</table>\n",
       "</div>"
      ],
      "text/plain": [
       "                 Model  Accuracy\n",
       "0  Random Forest(Gini)  0.928157"
      ]
     },
     "execution_count": 69,
     "metadata": {},
     "output_type": "execute_result"
    }
   ],
   "source": [
    "# Perform Random Forest classification on the processed data and compare the accuracy score of both these models\n",
    "\n",
    "# Random Forest Classifier with 'gini'\n",
    "\n",
    "from sklearn.ensemble import RandomForestClassifier\n",
    "clf_rf = RandomForestClassifier()\n",
    "clf_rf.fit(X_train_idf, y_train)\n",
    "\n",
    "# Predict using testing data\n",
    "y_pred_rf = clf_rf.predict(X_test_idf)\n",
    "\n",
    "# Calculate accuracy\n",
    "acc = accuracy_score(y_test, y_pred_rf)\n",
    "\n",
    "model_results = pd.DataFrame([['Random Forest(Gini)', acc]],\n",
    "               columns = ['Model', 'Accuracy'])\n",
    "\n",
    "model_results"
   ]
  },
  {
   "cell_type": "code",
   "execution_count": null,
   "metadata": {},
   "outputs": [],
   "source": [
    "results = results.append(model_results, ignore_index = True)\n",
    "print(results)"
   ]
  },
  {
   "cell_type": "code",
   "execution_count": 70,
   "metadata": {},
   "outputs": [
    {
     "data": {
      "text/html": [
       "<div>\n",
       "<style scoped>\n",
       "    .dataframe tbody tr th:only-of-type {\n",
       "        vertical-align: middle;\n",
       "    }\n",
       "\n",
       "    .dataframe tbody tr th {\n",
       "        vertical-align: top;\n",
       "    }\n",
       "\n",
       "    .dataframe thead th {\n",
       "        text-align: right;\n",
       "    }\n",
       "</style>\n",
       "<table border=\"1\" class=\"dataframe\">\n",
       "  <thead>\n",
       "    <tr style=\"text-align: right;\">\n",
       "      <th></th>\n",
       "      <th>Model</th>\n",
       "      <th>Accuracy</th>\n",
       "    </tr>\n",
       "  </thead>\n",
       "  <tbody>\n",
       "    <tr>\n",
       "      <th>0</th>\n",
       "      <td>Random Forest(Entropy)</td>\n",
       "      <td>0.922802</td>\n",
       "    </tr>\n",
       "  </tbody>\n",
       "</table>\n",
       "</div>"
      ],
      "text/plain": [
       "                    Model  Accuracy\n",
       "0  Random Forest(Entropy)  0.922802"
      ]
     },
     "execution_count": 70,
     "metadata": {},
     "output_type": "execute_result"
    }
   ],
   "source": [
    "# Random Forest Classifier with 'entropy'\n",
    "\n",
    "from sklearn.ensemble import RandomForestClassifier\n",
    "clf_rf = RandomForestClassifier(criterion='entropy')\n",
    "clf_rf.fit(X_train_idf, y_train)\n",
    "\n",
    "# Predict using testing data\n",
    "y_pred_rf = clf_rf.predict(X_test_idf)\n",
    "\n",
    "# Calculate accuracy\n",
    "acc = accuracy_score(y_test, y_pred_rf)\n",
    "\n",
    "model_results = pd.DataFrame([['Random Forest(Entropy)', acc]],\n",
    "               columns = ['Model', 'Accuracy'])\n",
    "\n",
    "model_results"
   ]
  },
  {
   "cell_type": "code",
   "execution_count": null,
   "metadata": {},
   "outputs": [],
   "source": [
    "results = results.append(model_results, ignore_index = True)\n",
    "print(results)"
   ]
  },
  {
   "cell_type": "code",
   "execution_count": 66,
   "metadata": {},
   "outputs": [
    {
     "data": {
      "text/plain": [
       "array([[ 272,   75,    7],\n",
       "       [   6, 1049,    4],\n",
       "       [   8,   72,  748]], dtype=int64)"
      ]
     },
     "execution_count": 66,
     "metadata": {},
     "output_type": "execute_result"
    }
   ],
   "source": [
    "# Display confusion matrix for Random Forest\n",
    "\n",
    "confusion_matrix(y_test,y_pred_rf) ### Confusion matrix for Random Forest"
   ]
  },
  {
   "cell_type": "markdown",
   "metadata": {},
   "source": [
    "<b><i>Conclusion</i></b>: In this demonstration of the case study, we examined how to perform Sentiment Analysis on Twitter data through various phases such as data cleaning, data pre-processing, tokenization, sentiment scoring, feature extraction and classification using Machine Learning algorithms."
   ]
  },
  {
   "cell_type": "code",
   "execution_count": null,
   "metadata": {},
   "outputs": [],
   "source": []
  }
 ],
 "metadata": {
  "kernelspec": {
   "display_name": "Python 3 (ipykernel)",
   "language": "python",
   "name": "python3"
  },
  "language_info": {
   "codemirror_mode": {
    "name": "ipython",
    "version": 3
   },
   "file_extension": ".py",
   "mimetype": "text/x-python",
   "name": "python",
   "nbconvert_exporter": "python",
   "pygments_lexer": "ipython3",
   "version": "3.11.5"
  }
 },
 "nbformat": 4,
 "nbformat_minor": 2
}
